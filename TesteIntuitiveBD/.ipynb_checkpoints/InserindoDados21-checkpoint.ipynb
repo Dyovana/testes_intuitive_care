{
 "cells": [
  {
   "cell_type": "code",
   "execution_count": 9,
   "id": "4eb93296",
   "metadata": {},
   "outputs": [],
   "source": [
    "# -*- coding: utf-8 -*-\n",
    "import csv\n",
    "import pymysql\n",
    "\n",
    "from datetime import date, datetime\n",
    "#OBS: Os dados dos arquivos foram carregados parcialmente, para teste."
   ]
  },
  {
   "cell_type": "code",
   "execution_count": 10,
   "id": "14718d91",
   "metadata": {},
   "outputs": [],
   "source": [
    "#Conectando com o bd\n",
    "cnx = pymysql.connect(host='localhost',\n",
    "                       user='root',\n",
    "                       passwd='dcb432',\n",
    "                       db='demonstracoes_cont',\n",
    "                       charset='utf8')"
   ]
  },
  {
   "cell_type": "code",
   "execution_count": 11,
   "id": "01f8f76a",
   "metadata": {},
   "outputs": [],
   "source": [
    "cursor = cnx.cursor() #Executar as querys"
   ]
  },
  {
   "cell_type": "code",
   "execution_count": 12,
   "id": "b56511f9",
   "metadata": {},
   "outputs": [],
   "source": [
    "list_file = [\"bd21/3T2021.csv\", \"bd21/2T2021.csv\", \"bd21/1T2021.csv\"]\n",
    "list_table = [\"tbl_dados_3t_21\", \"tbl_dados_2t_21\", \"tbl_dados_1t_21\"]"
   ]
  },
  {
   "cell_type": "code",
   "execution_count": null,
   "id": "939bb66b",
   "metadata": {},
   "outputs": [],
   "source": [
    "# queries para carregar o conteúdo dos arquivos do ano de 2021\n",
    "print(\"inicio\")\n",
    "c = 0\n",
    "for file in list_file:\n",
    "    file_r = csv.DictReader(open(file), delimiter=';')\n",
    "    \n",
    "    for table in list_table:\n",
    "        table_r = table\n",
    "        for row in file_r:\n",
    "            #Convertendo data para o padrão do bd\n",
    "            data = row['DATA']\n",
    "            row['DATA'] = datetime.strptime(data, '%d/%m/%Y').date()\n",
    "            \n",
    "            #Convertendo virgula em ponto para inserir do bd\n",
    "            row['VL_SALDO_FINAL'] = row['VL_SALDO_FINAL'].replace(\",\",\".\")\n",
    "    \n",
    "            cursor.execute(f\"INSERT INTO {table_r} (DATA, REG_ANS, CD_CONTA_CONTABIL, DESCRICAO, VL_SALDO_FINAL) \\\n",
    "            VALUES (%s, %s, %s, %s, %s)\",(row['DATA'],row['REG_ANS'],row['CD_CONTA_CONTABIL'],row['DESCRICAO'],\n",
    "            row['VL_SALDO_FINAL']))\n",
    "            cnx.commit()\n",
    "            \n",
    "            #Para acompanhar a importação:\n",
    "            c = c + 1\n",
    "            print(f\"Total de linhas adicionas: {c}\")\n",
    "    \n",
    "print(\"Pronto\")"
   ]
  }
 ],
 "metadata": {
  "kernelspec": {
   "display_name": "Python 3 (ipykernel)",
   "language": "python",
   "name": "python3"
  },
  "language_info": {
   "codemirror_mode": {
    "name": "ipython",
    "version": 3
   },
   "file_extension": ".py",
   "mimetype": "text/x-python",
   "name": "python",
   "nbconvert_exporter": "python",
   "pygments_lexer": "ipython3",
   "version": "3.9.7"
  }
 },
 "nbformat": 4,
 "nbformat_minor": 5
}
