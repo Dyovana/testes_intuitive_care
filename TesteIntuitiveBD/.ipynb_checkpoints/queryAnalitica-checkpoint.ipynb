{
 "cells": [
  {
   "cell_type": "code",
   "execution_count": 13,
   "id": "3c9b9081",
   "metadata": {},
   "outputs": [],
   "source": [
    "import pymysql\n",
    "#OBS: Os dados dos arquivos foram carregados parcialmente, para teste."
   ]
  },
  {
   "cell_type": "code",
   "execution_count": 14,
   "id": "63c2107b",
   "metadata": {},
   "outputs": [],
   "source": [
    "#Conectando com o bd\n",
    "cnx = pymysql.connect(host='localhost',\n",
    "                       user='root',\n",
    "                       passwd='dcb432',\n",
    "                       db='demonstracoes_cont',\n",
    "                       charset='utf8')"
   ]
  },
  {
   "cell_type": "code",
   "execution_count": 15,
   "id": "d5ff7e14",
   "metadata": {},
   "outputs": [],
   "source": [
    "cursor = cnx.cursor() #Executar as querys"
   ]
  },
  {
   "cell_type": "code",
   "execution_count": 17,
   "id": "c52416b2",
   "metadata": {},
   "outputs": [
    {
     "name": "stdout",
     "output_type": "stream",
     "text": [
      "Descrição: EVENTOS/ SINISTROS CONHECIDOS OU AVISADOS  DE ASSISTÊNCIA A SAÚDE MEDICO HOSPITALAR \n",
      "Valor: 52569252.59\n",
      "\n",
      "\n",
      "Descrição: EVENTOS/ SINISTROS CONHECIDOS OU AVISADOS  DE ASSISTÊNCIA A SAÚDE MEDICO HOSPITALAR \n",
      "Valor: 38085447.18\n",
      "\n",
      "\n",
      "Descrição: EVENTOS/ SINISTROS CONHECIDOS OU AVISADOS  DE ASSISTÊNCIA A SAÚDE MEDICO HOSPITALAR \n",
      "Valor: 6929498.87\n",
      "\n",
      "\n",
      "Descrição: EVENTOS/ SINISTROS CONHECIDOS OU AVISADOS  DE ASSISTÊNCIA A SAÚDE MEDICO HOSPITALAR \n",
      "Valor: 1910491.08\n",
      "\n",
      "\n",
      "Descrição: EVENTOS/ SINISTROS CONHECIDOS OU AVISADOS  DE ASSISTÊNCIA A SAÚDE MEDICO HOSPITALAR \n",
      "Valor: 371648.07\n",
      "\n",
      "\n",
      "Descrição: EVENTOS/ SINISTROS CONHECIDOS OU AVISADOS  DE ASSISTÊNCIA A SAÚDE MEDICO HOSPITALAR \n",
      "Valor: 199881.45\n",
      "\n",
      "\n",
      "Descrição: EVENTOS/ SINISTROS CONHECIDOS OU AVISADOS  DE ASSISTÊNCIA A SAÚDE MEDICO HOSPITALAR \n",
      "Valor: 105059.37\n",
      "\n",
      "\n",
      "Descrição: EVENTOS/ SINISTROS CONHECIDOS OU AVISADOS  DE ASSISTÊNCIA A SAÚDE MEDICO HOSPITALAR \n",
      "Valor: 64442.1\n",
      "\n",
      "\n",
      "Descrição: EVENTOS/ SINISTROS CONHECIDOS OU AVISADOS  DE ASSISTÊNCIA A SAÚDE MEDICO HOSPITALAR \n",
      "Valor: 9142.95\n",
      "\n",
      "\n"
     ]
    }
   ],
   "source": [
    "#10 operadoras que mais tiveram despesas com \"EVENTOS/ SINISTROS...\" no último trimestre\n",
    "#OBS: Os dados dos arquivos foram carregados parcialmente, para teste.\n",
    "cursor.execute(\"SELECT DESCRICAO, VL_SALDO_FINAL FROM tbl_dados_3t_21 WHERE DESCRICAO = 'EVENTOS/ SINISTROS CONHECIDOS OU AVISADOS  DE ASSISTÊNCIA A SAÚDE MEDICO HOSPITALAR ' ORDER BY VL_SALDO_FINAL DESC LIMIT 10;\")\n",
    "cnx.commit()\n",
    "\n",
    "linhas = cursor.fetchall()\n",
    "\n",
    "for linha in linhas:\n",
    "    print(f\"Descrição: {linha[0]}\")\n",
    "    print(f\"Valor: {linha[1]}\")\n",
    "    print(\"\\n\")\n",
    "\n"
   ]
  },
  {
   "cell_type": "code",
   "execution_count": null,
   "id": "ee3e4c7d",
   "metadata": {},
   "outputs": [],
   "source": []
  }
 ],
 "metadata": {
  "kernelspec": {
   "display_name": "Python 3 (ipykernel)",
   "language": "python",
   "name": "python3"
  },
  "language_info": {
   "codemirror_mode": {
    "name": "ipython",
    "version": 3
   },
   "file_extension": ".py",
   "mimetype": "text/x-python",
   "name": "python",
   "nbconvert_exporter": "python",
   "pygments_lexer": "ipython3",
   "version": "3.9.7"
  }
 },
 "nbformat": 4,
 "nbformat_minor": 5
}
